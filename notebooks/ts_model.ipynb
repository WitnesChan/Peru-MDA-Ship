# %% codecell
import os
import pandas as pd
import matplotlib.pyplot as plt
import seaborn as sns

import statsmodels.api as sm
import statsmodels.formula.api as smf
from statsmodels.tsa.arima.model import ARIMA
from statsmodels.graphics.tsaplots import plot_predict
from statsmodels.tsa.seasonal import STL, seasonal_decompose
from statsmodels.tsa.stattools import adfuller, kpss

from sklearn.preprocessing import MinMaxScaler, StandardScaler

os.chdir('/Users/witnes/Workspace/MDA/Peru-MDA-Ship')

def adf_test(timeseries):
    print ('Results of Dickey-Fuller Test:')
    dftest = adfuller(timeseries, autolag='AIC')
    dfoutput = pd.Series(dftest[0:4], index=['Test Statistic','p-value','#Lags Used','Number of Observations Used'])
    for key,value in dftest[4].items():
       dfoutput['Critical Value (%s)'%key] = value
    print (dfoutput)

def kpss_test(timeseries):
    print ('Results of KPSS Test:')
    kpsstest = kpss(timeseries, regression='c', nlags="auto")
    kpss_output = pd.Series(kpsstest[0:3], index=['Test Statistic','p-value','Lags Used'])
    for key,value in kpsstest[3].items():
        kpss_output['Critical Value (%s)'%key] = value
    print (kpss_output)


# %% codecell

df_country_ts = pd.read_csv('data/dim_all_country_info.csv',
    index_col = ['country', 'year']
    )

#%% markdown
# #### HWN yearly number of heat waves

# #### HWF yearly sum of participating heat waves
# #### HWD length of the longest yearly event

# #### HWA hottest day of hottest yearly event
# #### HWM average magnitude of all yearly heat waves


#%% codecell

sm.graphics.tsa.plot_pacf(df_world_ts.HWN_estimated, lags=10)
#sm.graphics.tsa.plot_acf(trend.subtract(trend.shift(1) ,axis=0).dropna(), lags=10)

# %% codecell

arma_mod = ARIMA(endog = df_world_ts.HWA, order = (3,1,1))
arma_res = arma_mod.fit()

arma_res.summary()

#%%
